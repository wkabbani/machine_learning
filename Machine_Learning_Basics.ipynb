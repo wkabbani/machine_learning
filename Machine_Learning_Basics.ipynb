{
  "nbformat": 4,
  "nbformat_minor": 0,
  "metadata": {
    "colab": {
      "name": "Machine Learning Basics.ipynb",
      "version": "0.3.2",
      "provenance": [],
      "collapsed_sections": [],
      "include_colab_link": true
    },
    "kernelspec": {
      "name": "python3",
      "display_name": "Python 3"
    }
  },
  "cells": [
    {
      "cell_type": "markdown",
      "metadata": {
        "id": "view-in-github",
        "colab_type": "text"
      },
      "source": [
        "<a href=\"https://colab.research.google.com/github/wkabbani/machine_learning/blob/master/Machine_Learning_Basics.ipynb\" target=\"_parent\"><img src=\"https://colab.research.google.com/assets/colab-badge.svg\" alt=\"Open In Colab\"/></a>"
      ]
    },
    {
      "cell_type": "markdown",
      "metadata": {
        "id": "Ba_XQ901cWwX",
        "colab_type": "text"
      },
      "source": [
        "# Machine Learning Basics\n",
        "\n",
        "We will create an arbitrary function in python and use some random inputs, run the function and get the correspoinding outputs. Then we will use these inputs and outputs as training examples to a create a simple machine learning model that tries to approximate and learn our function.\n"
      ]
    },
    {
      "cell_type": "markdown",
      "metadata": {
        "id": "bm5SBnPKgmwt",
        "colab_type": "text"
      },
      "source": [
        "## Import Dependencies"
      ]
    },
    {
      "cell_type": "code",
      "metadata": {
        "id": "90LWAitQgrb4",
        "colab_type": "code",
        "colab": {}
      },
      "source": [
        "import tensorflow as tf\n",
        "import numpy as np\n",
        "import matplotlib.pyplot as plt\n",
        "\n",
        "tf.logging.set_verbosity(tf.logging.ERROR)"
      ],
      "execution_count": 0,
      "outputs": []
    },
    {
      "cell_type": "markdown",
      "metadata": {
        "id": "1XuiZ_14cYdX",
        "colab_type": "text"
      },
      "source": [
        "## 1.The Traditional Approach\n",
        "\n",
        "In the traditional software development approach, the input and the algorithm is known, and we write a function to produce the output.\n"
      ]
    },
    {
      "cell_type": "markdown",
      "metadata": {
        "id": "W9gS3hV1gFpy",
        "colab_type": "text"
      },
      "source": [
        "### 1.1.The Input\n"
      ]
    },
    {
      "cell_type": "code",
      "metadata": {
        "id": "CN7Bv6KYgQAX",
        "colab_type": "code",
        "colab": {
          "base_uri": "https://localhost:8080/",
          "height": 34
        },
        "outputId": "2c331e96-586b-4450-fa61-a7104cc41165"
      },
      "source": [
        "inputs = np.random.randint(1, high=100, size=10)\n",
        "print(inputs)"
      ],
      "execution_count": 13,
      "outputs": [
        {
          "output_type": "stream",
          "text": [
            "[37 89 41 66 24 47 25 74 64 12]\n"
          ],
          "name": "stdout"
        }
      ]
    },
    {
      "cell_type": "markdown",
      "metadata": {
        "id": "iH7zvWQnnOyc",
        "colab_type": "text"
      },
      "source": [
        "### 1.2. The Algorithm\n",
        "\n",
        "The algorithm here is just an arbitrary one.\n",
        "$$ y = 2.5 \\times x + 77 $$"
      ]
    },
    {
      "cell_type": "code",
      "metadata": {
        "id": "o168Lu80cruu",
        "colab_type": "code",
        "colab": {}
      },
      "source": [
        "def theFunction(x):\n",
        "  return 2.5 * x + 77;"
      ],
      "execution_count": 0,
      "outputs": []
    },
    {
      "cell_type": "markdown",
      "metadata": {
        "id": "bnN4HC-BnzbS",
        "colab_type": "text"
      },
      "source": [
        "### 1.3. The Output"
      ]
    },
    {
      "cell_type": "code",
      "metadata": {
        "id": "hu6LcHNFehjX",
        "colab_type": "code",
        "colab": {
          "base_uri": "https://localhost:8080/",
          "height": 34
        },
        "outputId": "8b5106c6-b470-4d2f-af66-23a8c2e187a3"
      },
      "source": [
        "outputs = np.fromiter((theFunction(i) for i in inputs), i.dtype)\n",
        "print(outputs)"
      ],
      "execution_count": 23,
      "outputs": [
        {
          "output_type": "stream",
          "text": [
            "[169 299 179 242 137 194 139 262 237 107]\n"
          ],
          "name": "stdout"
        }
      ]
    },
    {
      "cell_type": "markdown",
      "metadata": {
        "id": "GccEVDh3qJl_",
        "colab_type": "text"
      },
      "source": [
        "## 2. The Machine Learning Approach\n",
        "\n",
        "In the machine learning approach, we know the input and the output, but we don't know the algorithm that creates the output given the input."
      ]
    },
    {
      "cell_type": "markdown",
      "metadata": {
        "id": "rFQrosD-qp62",
        "colab_type": "text"
      },
      "source": [
        "### 2.1. The Training Examples (Inputs + Outputs)"
      ]
    },
    {
      "cell_type": "code",
      "metadata": {
        "id": "PW7lTdzBoaZH",
        "colab_type": "code",
        "colab": {
          "base_uri": "https://localhost:8080/",
          "height": 187
        },
        "outputId": "43952910-d3bc-4234-b726-3ba373be02fd"
      },
      "source": [
        "for i,x in enumerate(inputs):\n",
        "  print(\"Input x = {}, Output y = {}\".format(x, outputs[i]))"
      ],
      "execution_count": 25,
      "outputs": [
        {
          "output_type": "stream",
          "text": [
            "Input x = 37, Output y = 169\n",
            "Input x = 89, Output y = 299\n",
            "Input x = 41, Output y = 179\n",
            "Input x = 66, Output y = 242\n",
            "Input x = 24, Output y = 137\n",
            "Input x = 47, Output y = 194\n",
            "Input x = 25, Output y = 139\n",
            "Input x = 74, Output y = 262\n",
            "Input x = 64, Output y = 237\n",
            "Input x = 12, Output y = 107\n"
          ],
          "name": "stdout"
        }
      ]
    },
    {
      "cell_type": "markdown",
      "metadata": {
        "id": "1XUqQUQIrXoF",
        "colab_type": "text"
      },
      "source": [
        "### 2.2. The Algorithm\n",
        "\n",
        "To find out what the algorithm is we need to do a couple of things:\n",
        "1. Create a model\n",
        "2. Train the model\n",
        "3. Use it to predict new values\n",
        "4. Compare the results with the original function.\n"
      ]
    },
    {
      "cell_type": "markdown",
      "metadata": {
        "id": "9Pj-ugO2wVzs",
        "colab_type": "text"
      },
      "source": [
        "### 2.2.1. The First Model\n",
        "\n",
        "In the first attempt we'll create a very simple one Dense layer with one neuron neural network to try to guess the original function."
      ]
    },
    {
      "cell_type": "code",
      "metadata": {
        "id": "GtWKoHM7rFnT",
        "colab_type": "code",
        "colab": {
          "base_uri": "https://localhost:8080/",
          "height": 34
        },
        "outputId": "b271883e-6771-4787-8163-caa77dd0e843"
      },
      "source": [
        "# Create the model with just one Dense layer of a single neuron\n",
        "model = tf.keras.Sequential([\n",
        "    tf.keras.layers.Dense(units=1, input_shape=[1])\n",
        "])\n",
        "\n",
        "# Compile the model to give it the loss function, the optimizer, the learning rate\n",
        "model.compile(loss='mean_squared_error', \n",
        "             optimizer=tf.keras.optimizers.Adam(0.1))\n",
        "\n",
        "# Train the model\n",
        "history = model.fit(inputs, outputs, epochs=2500, verbose=False)\n",
        "print(\"Training is finished!, and the model is ready!\")"
      ],
      "execution_count": 64,
      "outputs": [
        {
          "output_type": "stream",
          "text": [
            "Training is finished!, and the model is ready!\n"
          ],
          "name": "stdout"
        }
      ]
    },
    {
      "cell_type": "code",
      "metadata": {
        "id": "MRuZb_1QuGIl",
        "colab_type": "code",
        "colab": {
          "base_uri": "https://localhost:8080/",
          "height": 34
        },
        "outputId": "0ab1332a-45e1-4fa9-85a6-455576c51cc7"
      },
      "source": [
        "# Use the model to predict the output of a new input value\n",
        "predicted_value = model.predict([100])\n",
        "print(\"Predicted value by the model = {}\".format(predicted_value))"
      ],
      "execution_count": 65,
      "outputs": [
        {
          "output_type": "stream",
          "text": [
            "Predicted value by the model = [[328.8441]]\n"
          ],
          "name": "stdout"
        }
      ]
    },
    {
      "cell_type": "code",
      "metadata": {
        "id": "1Oe9cbaevk3A",
        "colab_type": "code",
        "colab": {
          "base_uri": "https://localhost:8080/",
          "height": 51
        },
        "outputId": "ce89b5e3-5e11-41eb-dcd7-890e7e101202"
      },
      "source": [
        "# Comparing with the original function\n",
        "correct_value = theFunction(100)\n",
        "print(\"The expected value produced by the original function = {}\".format(correct_value))\n",
        "print(\"The difference = {}\".format(np.abs(correct_value - predicted_value)))"
      ],
      "execution_count": 66,
      "outputs": [
        {
          "output_type": "stream",
          "text": [
            "The expected value produced by the original function = 327.0\n",
            "The difference = [[1.8440857]]\n"
          ],
          "name": "stdout"
        }
      ]
    },
    {
      "cell_type": "markdown",
      "metadata": {
        "id": "96jrqnbswz_V",
        "colab_type": "text"
      },
      "source": [
        "We see the difference is not too big between the predicted value and the expected one, but since the training data is limited, we needed a lot of epochs."
      ]
    },
    {
      "cell_type": "code",
      "metadata": {
        "id": "OhVGwy1LyCJC",
        "colab_type": "code",
        "colab": {
          "base_uri": "https://localhost:8080/",
          "height": 300
        },
        "outputId": "bbdde87a-8501-4132-b146-ac57d4d8c620"
      },
      "source": [
        "plt.xlabel('Epoch Number')\n",
        "plt.ylabel(\"Loss Magnitude\")\n",
        "plt.plot(history.history['loss'])"
      ],
      "execution_count": 67,
      "outputs": [
        {
          "output_type": "execute_result",
          "data": {
            "text/plain": [
              "[<matplotlib.lines.Line2D at 0x7f4c7cc686d8>]"
            ]
          },
          "metadata": {
            "tags": []
          },
          "execution_count": 67
        },
        {
          "output_type": "display_data",
          "data": {
            "image/png": "[encoded data removed]",
            "text/plain": [
              "<Figure size 432x288 with 1 Axes>"
            ]
          },
          "metadata": {
            "tags": []
          }
        }
      ]
    },
    {
      "cell_type": "markdown",
      "metadata": {
        "id": "rcpLmkZJzK6Q",
        "colab_type": "text"
      },
      "source": [
        "### 2.2.2. The Second Model\n",
        "\n",
        "In the second attempt we'll create a bit more complex model with three Dense layers and more neurons."
      ]
    },
    {
      "cell_type": "code",
      "metadata": {
        "id": "mm5PYKUYvyeN",
        "colab_type": "code",
        "colab": {
          "base_uri": "https://localhost:8080/",
          "height": 34
        },
        "outputId": "4fc45938-b72e-4c7c-e72f-b95b38583014"
      },
      "source": [
        "# Create the model\n",
        "model = tf.keras.Sequential([\n",
        "    tf.keras.layers.Dense(units=4, input_shape=[1]),\n",
        "    tf.keras.layers.Dense(units=4),\n",
        "    tf.keras.layers.Dense(units=1)\n",
        "])\n",
        "\n",
        "# Compile the model\n",
        "model.compile(loss='mean_squared_error', \n",
        "              optimizer=tf.keras.optimizers.Adam(0.1))\n",
        "\n",
        "# Train the model\n",
        "model.fit(inputs, outputs, epochs=2500, verbose=False)\n",
        "print(\"Training is finished!, and the model is ready!\")"
      ],
      "execution_count": 70,
      "outputs": [
        {
          "output_type": "stream",
          "text": [
            "Training is finished!, and the model is ready!\n"
          ],
          "name": "stdout"
        }
      ]
    },
    {
      "cell_type": "code",
      "metadata": {
        "id": "6aod6Gr-0WlI",
        "colab_type": "code",
        "colab": {
          "base_uri": "https://localhost:8080/",
          "height": 34
        },
        "outputId": "b506f769-de61-43a3-ff17-bdfcd0c364d2"
      },
      "source": [
        "# Use the model to predict the output of a new input value\n",
        "predicted_value = model.predict([100])\n",
        "print(\"Predicted value by the model = {}\".format(predicted_value))"
      ],
      "execution_count": 71,
      "outputs": [
        {
          "output_type": "stream",
          "text": [
            "Predicted value by the model = [[326.6618]]\n"
          ],
          "name": "stdout"
        }
      ]
    },
    {
      "cell_type": "code",
      "metadata": {
        "id": "IIwzxYBM0n5H",
        "colab_type": "code",
        "colab": {
          "base_uri": "https://localhost:8080/",
          "height": 51
        },
        "outputId": "de6ae7ad-16f1-410e-f371-b9a3ff9e63e3"
      },
      "source": [
        "# Comparing with the original function\n",
        "correct_value = theFunction(100)\n",
        "print(\"The expected value produced by the original function = {}\".format(correct_value))\n",
        "print(\"The difference = {}\".format(np.abs(correct_value - predicted_value)))"
      ],
      "execution_count": 72,
      "outputs": [
        {
          "output_type": "stream",
          "text": [
            "The expected value produced by the original function = 327.0\n",
            "The difference = [[0.3381958]]\n"
          ],
          "name": "stdout"
        }
      ]
    },
    {
      "cell_type": "code",
      "metadata": {
        "id": "cSB2RTQG0qsj",
        "colab_type": "code",
        "colab": {
          "base_uri": "https://localhost:8080/",
          "height": 300
        },
        "outputId": "315f0adf-35fc-471e-bb6b-9c0fcbdfe534"
      },
      "source": [
        "plt.xlabel('Epoch Number')\n",
        "plt.ylabel(\"Loss Magnitude\")\n",
        "plt.plot(history.history['loss'])"
      ],
      "execution_count": 73,
      "outputs": [
        {
          "output_type": "execute_result",
          "data": {
            "text/plain": [
              "[<matplotlib.lines.Line2D at 0x7f4c7c6c4c50>]"
            ]
          },
          "metadata": {
            "tags": []
          },
          "execution_count": 73
        },
        {
          "output_type": "display_data",
          "data": {
            "image/png": "[encoded data removed]",
            "text/plain": [
              "<Figure size 432x288 with 1 Axes>"
            ]
          },
          "metadata": {
            "tags": []
          }
        }
      ]
    }
  ]
}