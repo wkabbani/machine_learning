{
  "nbformat": 4,
  "nbformat_minor": 0,
  "metadata": {
    "colab": {
      "name": "fashion_mnist.ipynb",
      "version": "0.3.2",
      "provenance": [],
      "collapsed_sections": [],
      "include_colab_link": true
    },
    "kernelspec": {
      "name": "python3",
      "display_name": "Python 3"
    }
  },
  "cells": [
    {
      "cell_type": "markdown",
      "metadata": {
        "id": "view-in-github",
        "colab_type": "text"
      },
      "source": [
        "<a href=\"https://colab.research.google.com/github/wkabbani/machine_learning/blob/master/notebooks/fashion_mnist.ipynb\" target=\"_parent\"><img src=\"https://colab.research.google.com/assets/colab-badge.svg\" alt=\"Open In Colab\"/></a>"
      ]
    },
    {
      "cell_type": "markdown",
      "metadata": {
        "id": "BHp6J3EyW5IK",
        "colab_type": "text"
      },
      "source": [
        "# Train and Prepare Fashion MNIST Model for TF Serving"
      ]
    },
    {
      "cell_type": "markdown",
      "metadata": {
        "id": "vo3OZ-vwXV1U",
        "colab_type": "text"
      },
      "source": [
        "This notebook trains a TF model over the fashion MNIST dataset and saves it to be ready to use with TF serving."
      ]
    },
    {
      "cell_type": "markdown",
      "metadata": {
        "id": "tDaxrpGuZA9B",
        "colab_type": "text"
      },
      "source": [
        "## Build and train the model"
      ]
    },
    {
      "cell_type": "code",
      "metadata": {
        "id": "mhfNot853FDE",
        "colab_type": "code",
        "colab": {
          "base_uri": "https://localhost:8080/",
          "height": 34
        },
        "outputId": "63d8d3fc-131b-4554-e553-b70c4931d5ff"
      },
      "source": [
        "# TensorFlow and tf.keras\n",
        "import tensorflow as tf\n",
        "from tensorflow import keras\n",
        "\n",
        "# Helper libraries\n",
        "import numpy as np\n",
        "import matplotlib.pyplot as plt\n",
        "import os\n",
        "import subprocess\n",
        "\n",
        "tf.logging.set_verbosity(tf.logging.ERROR)\n",
        "print(tf.__version__)"
      ],
      "execution_count": 1,
      "outputs": [
        {
          "output_type": "stream",
          "text": [
            "1.14.0\n"
          ],
          "name": "stdout"
        }
      ]
    },
    {
      "cell_type": "code",
      "metadata": {
        "id": "57aY9HUQ3KlO",
        "colab_type": "code",
        "colab": {
          "base_uri": "https://localhost:8080/",
          "height": 204
        },
        "outputId": "529b3b0b-56cf-432a-d80e-32c7677bd871"
      },
      "source": [
        "# the fashion mnist dataset can be loaded using tf apis\n",
        "fashion_mnist = keras.datasets.fashion_mnist\n",
        "(train_images, train_labels), (test_images, test_labels) = fashion_mnist.load_data()\n",
        "\n",
        "# scale the values to 0.0 to 1.0 for an efficient training\n",
        "train_images = train_images / 255.0\n",
        "test_images = test_images / 255.0\n",
        "\n",
        "# reshape for feeding into the model\n",
        "train_images = train_images.reshape(train_images.shape[0], 28, 28, 1)\n",
        "test_images = test_images.reshape(test_images.shape[0], 28, 28, 1)\n",
        "\n",
        "# the labels the model classifies images into\n",
        "class_names = ['T-shirt/top', 'Trouser', 'Pullover', 'Dress', 'Coat',\n",
        "               'Sandal', 'Shirt', 'Sneaker', 'Bag', 'Ankle boot']\n",
        "\n",
        "print('\\ntrain_images.shape: {}, of {}'.format(train_images.shape, train_images.dtype))\n",
        "print('test_images.shape: {}, of {}'.format(test_images.shape, test_images.dtype))"
      ],
      "execution_count": 2,
      "outputs": [
        {
          "output_type": "stream",
          "text": [
            "Downloading data from https://storage.googleapis.com/tensorflow/tf-keras-datasets/train-labels-idx1-ubyte.gz\n",
            "32768/29515 [=================================] - 0s 0us/step\n",
            "Downloading data from https://storage.googleapis.com/tensorflow/tf-keras-datasets/train-images-idx3-ubyte.gz\n",
            "26427392/26421880 [==============================] - 0s 0us/step\n",
            "Downloading data from https://storage.googleapis.com/tensorflow/tf-keras-datasets/t10k-labels-idx1-ubyte.gz\n",
            "8192/5148 [===============================================] - 0s 0us/step\n",
            "Downloading data from https://storage.googleapis.com/tensorflow/tf-keras-datasets/t10k-images-idx3-ubyte.gz\n",
            "4423680/4422102 [==============================] - 0s 0us/step\n",
            "\n",
            "train_images.shape: (60000, 28, 28, 1), of float64\n",
            "test_images.shape: (10000, 28, 28, 1), of float64\n"
          ],
          "name": "stdout"
        }
      ]
    },
    {
      "cell_type": "code",
      "metadata": {
        "id": "yOydVU_p3NTz",
        "colab_type": "code",
        "colab": {
          "base_uri": "https://localhost:8080/",
          "height": 476
        },
        "outputId": "4183521b-56d6-4169-8411-394d1c448d71"
      },
      "source": [
        "model = keras.Sequential([\n",
        "  keras.layers.Conv2D(input_shape=(28,28,1), filters=8, kernel_size=3, \n",
        "                      strides=2, activation='relu', name='Conv1'),\n",
        "  keras.layers.Flatten(),\n",
        "  keras.layers.Dense(10, activation=tf.nn.softmax, name='Softmax')\n",
        "])\n",
        "model.summary()\n",
        "\n",
        "testing = False\n",
        "epochs = 5\n",
        "\n",
        "model.compile(optimizer=tf.train.AdamOptimizer(), \n",
        "              loss='sparse_categorical_crossentropy',\n",
        "              metrics=['accuracy'])\n",
        "model.fit(train_images, train_labels, epochs=epochs)\n",
        "\n",
        "test_loss, test_acc = model.evaluate(test_images, test_labels)\n",
        "print('\\nTest accuracy: {}'.format(test_acc))"
      ],
      "execution_count": 3,
      "outputs": [
        {
          "output_type": "stream",
          "text": [
            "Model: \"sequential\"\n",
            "_________________________________________________________________\n",
            "Layer (type)                 Output Shape              Param #   \n",
            "=================================================================\n",
            "Conv1 (Conv2D)               (None, 13, 13, 8)         80        \n",
            "_________________________________________________________________\n",
            "flatten (Flatten)            (None, 1352)              0         \n",
            "_________________________________________________________________\n",
            "Softmax (Dense)              (None, 10)                13530     \n",
            "=================================================================\n",
            "Total params: 13,610\n",
            "Trainable params: 13,610\n",
            "Non-trainable params: 0\n",
            "_________________________________________________________________\n",
            "Epoch 1/5\n",
            "60000/60000 [==============================] - 7s 111us/sample - loss: 0.5365 - acc: 0.8127\n",
            "Epoch 2/5\n",
            "60000/60000 [==============================] - 7s 112us/sample - loss: 0.3996 - acc: 0.8597\n",
            "Epoch 3/5\n",
            "60000/60000 [==============================] - 6s 102us/sample - loss: 0.3674 - acc: 0.8705\n",
            "Epoch 4/5\n",
            "60000/60000 [==============================] - 6s 102us/sample - loss: 0.3463 - acc: 0.8780\n",
            "Epoch 5/5\n",
            "60000/60000 [==============================] - 6s 101us/sample - loss: 0.3327 - acc: 0.8815\n",
            "10000/10000 [==============================] - 1s 52us/sample - loss: 0.3584 - acc: 0.8745\n",
            "\n",
            "Test accuracy: 0.8744999766349792\n"
          ],
          "name": "stdout"
        }
      ]
    },
    {
      "cell_type": "markdown",
      "metadata": {
        "id": "ZjrS1WdCZGPu",
        "colab_type": "text"
      },
      "source": [
        "## Save the model"
      ]
    },
    {
      "cell_type": "markdown",
      "metadata": {
        "id": "3ZQE3dBNZYgE",
        "colab_type": "text"
      },
      "source": [
        "To use the model with TF serving we need to save it in `tf.saved_model` format. and to that we can use the `tf.saved_model.simple_save()`"
      ]
    },
    {
      "cell_type": "code",
      "metadata": {
        "id": "DFOBia1v3UcW",
        "colab_type": "code",
        "colab": {
          "base_uri": "https://localhost:8080/",
          "height": 51
        },
        "outputId": "4a51ad70-efa3-4a64-eea9-aca9d463dace"
      },
      "source": [
        "# prepare a temp location to save the model\n",
        "import tempfile\n",
        "\n",
        "MODEL_DIR = tempfile.gettempdir()\n",
        "version = 1\n",
        "export_path = os.path.join(MODEL_DIR, str(version))\n",
        "print('export_path = {}\\n'.format(export_path))\n",
        "if os.path.isdir(export_path):\n",
        "  print('\\nAlready saved a model, cleaning up\\n')\n",
        "  !rm -r {export_path}"
      ],
      "execution_count": 4,
      "outputs": [
        {
          "output_type": "stream",
          "text": [
            "export_path = /tmp/1\n",
            "\n"
          ],
          "name": "stdout"
        }
      ]
    },
    {
      "cell_type": "code",
      "metadata": {
        "id": "pRPlkqXsZw7L",
        "colab_type": "code",
        "colab": {
          "base_uri": "https://localhost:8080/",
          "height": 102
        },
        "outputId": "f33ad605-fc1b-42d3-8da4-f752aa2d6994"
      },
      "source": [
        "# Fetch the Keras session and save the model\n",
        "# The signature definition is defined by the input and output tensors,\n",
        "# and stored with the default serving key\n",
        "tf.saved_model.simple_save(\n",
        "    keras.backend.get_session(),\n",
        "    export_path,\n",
        "    inputs={'input_image': model.input},\n",
        "    outputs={t.name:t for t in model.outputs})\n",
        "\n",
        "print('\\nSaved model:')\n",
        "!ls -l {export_path}"
      ],
      "execution_count": 5,
      "outputs": [
        {
          "output_type": "stream",
          "text": [
            "\n",
            "Saved model:\n",
            "total 72\n",
            "-rw-r--r-- 1 root root 65982 Aug 25 10:52 saved_model.pb\n",
            "drwxr-xr-x 2 root root  4096 Aug 25 10:52 variables\n"
          ],
          "name": "stdout"
        }
      ]
    },
    {
      "cell_type": "markdown",
      "metadata": {
        "id": "g0lKUJodaGRc",
        "colab_type": "text"
      },
      "source": [
        "## Inspecting the saved model"
      ]
    },
    {
      "cell_type": "markdown",
      "metadata": {
        "id": "w9Ie21bFaKeO",
        "colab_type": "text"
      },
      "source": [
        "To inspect the saved model, we can use a utility called `saved_model_cli` so we can take a look at the signature of the inputs and the outputs of the model."
      ]
    },
    {
      "cell_type": "code",
      "metadata": {
        "id": "OQ3GiaGv3WqG",
        "colab_type": "code",
        "colab": {
          "base_uri": "https://localhost:8080/",
          "height": 272
        },
        "outputId": "0bd3be17-5926-49e2-9756-48eb6c9c30ab"
      },
      "source": [
        "!saved_model_cli show --dir {export_path} --all"
      ],
      "execution_count": 6,
      "outputs": [
        {
          "output_type": "stream",
          "text": [
            "\n",
            "MetaGraphDef with tag-set: 'serve' contains the following SignatureDefs:\n",
            "\n",
            "signature_def['serving_default']:\n",
            "  The given SavedModel SignatureDef contains the following input(s):\n",
            "    inputs['input_image'] tensor_info:\n",
            "        dtype: DT_FLOAT\n",
            "        shape: (-1, 28, 28, 1)\n",
            "        name: Conv1_input:0\n",
            "  The given SavedModel SignatureDef contains the following output(s):\n",
            "    outputs['Softmax/Softmax:0'] tensor_info:\n",
            "        dtype: DT_FLOAT\n",
            "        shape: (-1, 10)\n",
            "        name: Softmax/Softmax:0\n",
            "  Method name is: tensorflow/serving/predict\n"
          ],
          "name": "stdout"
        }
      ]
    },
    {
      "cell_type": "code",
      "metadata": {
        "id": "zoki4_L1am8d",
        "colab_type": "code",
        "colab": {}
      },
      "source": [
        ""
      ],
      "execution_count": 0,
      "outputs": []
    },
    {
      "cell_type": "markdown",
      "metadata": {
        "id": "zrYHRmImbltd",
        "colab_type": "text"
      },
      "source": [
        "## Testing the model"
      ]
    },
    {
      "cell_type": "code",
      "metadata": {
        "id": "5lTcZLKdbnBg",
        "colab_type": "code",
        "colab": {}
      },
      "source": [
        "def show(img, title):\n",
        "  plt.figure()\n",
        "  plt.imshow(img)\n",
        "  plt.axis('off')\n",
        "  plt.title('\\n\\n{}'.format(title), fontdict={'size': 16})"
      ],
      "execution_count": 0,
      "outputs": []
    },
    {
      "cell_type": "code",
      "metadata": {
        "id": "tb7rm0D7bpEX",
        "colab_type": "code",
        "colab": {
          "base_uri": "https://localhost:8080/",
          "height": 34
        },
        "outputId": "e843e844-ec51-4d54-c31d-6c3cb638f2fc"
      },
      "source": [
        "# pick some random image from the test dataset\n",
        "import random\n",
        "rando = random.randint(0,len(test_images)-1)\n",
        "print(\"chosen random image: {}\".format(rando))"
      ],
      "execution_count": 87,
      "outputs": [
        {
          "output_type": "stream",
          "text": [
            "chosen random image: 7633\n"
          ],
          "name": "stdout"
        }
      ]
    },
    {
      "cell_type": "markdown",
      "metadata": {
        "id": "tXx1oRlZdxN_",
        "colab_type": "text"
      },
      "source": [
        "Print the correct label from the test labels"
      ]
    },
    {
      "cell_type": "code",
      "metadata": {
        "id": "R90QcBudd20V",
        "colab_type": "code",
        "colab": {
          "base_uri": "https://localhost:8080/",
          "height": 318
        },
        "outputId": "195a6093-85db-4413-f844-b5990aa708e4"
      },
      "source": [
        "show(test_images[rando].reshape(28,28), 'Correct Label: {}'.format(class_names[test_labels[rando]]))"
      ],
      "execution_count": 88,
      "outputs": [
        {
          "output_type": "display_data",
          "data": {
            "image/png": "[encoded data removed]",
            "text/plain": [
              "<Figure size 432x288 with 1 Axes>"
            ]
          },
          "metadata": {
            "tags": []
          }
        }
      ]
    },
    {
      "cell_type": "markdown",
      "metadata": {
        "id": "-ehrBbjmeo5b",
        "colab_type": "text"
      },
      "source": [
        "Print the predicted label from the output of our model"
      ]
    },
    {
      "cell_type": "code",
      "metadata": {
        "id": "VZWMsZ0MfJRv",
        "colab_type": "code",
        "colab": {
          "base_uri": "https://localhost:8080/",
          "height": 318
        },
        "outputId": "4bcf7412-d9d4-46ce-adbe-43edb49d6963"
      },
      "source": [
        "# we need to convert the single image into a list of one item\n",
        "predictions_single = model.predict(np.expand_dims(test_images[rando],0))\n",
        "\n",
        "show(test_images[rando].reshape(28,28), 'Predicted Label: {}'.format(class_names[np.argmax(predictions_single[0])]))"
      ],
      "execution_count": 89,
      "outputs": [
        {
          "output_type": "display_data",
          "data": {
            "image/png": "[encoded data removed]",
            "text/plain": [
              "<Figure size 432x288 with 1 Axes>"
            ]
          },
          "metadata": {
            "tags": []
          }
        }
      ]
    },
    {
      "cell_type": "markdown",
      "metadata": {
        "id": "QRKlNteXj0aL",
        "colab_type": "text"
      },
      "source": [
        "## Downloading the saved model"
      ]
    },
    {
      "cell_type": "code",
      "metadata": {
        "id": "Nfpv30ChhFHa",
        "colab_type": "code",
        "colab": {
          "base_uri": "https://localhost:8080/",
          "height": 68
        },
        "outputId": "0b64c5bd-8107-46b3-a325-9a91b6ff78eb"
      },
      "source": [
        "!ls -l {export_path}"
      ],
      "execution_count": 46,
      "outputs": [
        {
          "output_type": "stream",
          "text": [
            "total 72\n",
            "-rw-r--r-- 1 root root 65982 Aug 25 10:52 saved_model.pb\n",
            "drwxr-xr-x 2 root root  4096 Aug 25 10:52 variables\n"
          ],
          "name": "stdout"
        }
      ]
    },
    {
      "cell_type": "code",
      "metadata": {
        "id": "ZYumoLoejgfd",
        "colab_type": "code",
        "colab": {
          "base_uri": "https://localhost:8080/",
          "height": 102
        },
        "outputId": "d4c3d2a0-721f-4c6b-f74c-d25095acb3ed"
      },
      "source": [
        "!zip -r /content/file.zip {export_path}"
      ],
      "execution_count": 51,
      "outputs": [
        {
          "output_type": "stream",
          "text": [
            "updating: tmp/1/ (stored 0%)\n",
            "updating: tmp/1/saved_model.pb (deflated 85%)\n",
            "updating: tmp/1/variables/ (stored 0%)\n",
            "updating: tmp/1/variables/variables.data-00000-of-00001 (deflated 6%)\n",
            "updating: tmp/1/variables/variables.index (deflated 34%)\n"
          ],
          "name": "stdout"
        }
      ]
    },
    {
      "cell_type": "code",
      "metadata": {
        "id": "zWyRWA0nj8T8",
        "colab_type": "code",
        "colab": {}
      },
      "source": [
        "from google.colab import files\n",
        "files.download(\"/content/file.zip\")"
      ],
      "execution_count": 0,
      "outputs": []
    },
    {
      "cell_type": "markdown",
      "metadata": {
        "id": "TtA1eehbpm8N",
        "colab_type": "text"
      },
      "source": [
        "## Testing the saved model with TF serving"
      ]
    },
    {
      "cell_type": "markdown",
      "metadata": {
        "id": "kQLDxaZAshYs",
        "colab_type": "text"
      },
      "source": [
        "We'll test the saved model with TF serving using its docker image."
      ]
    },
    {
      "cell_type": "markdown",
      "metadata": {
        "id": "XCRpu0q9sze7",
        "colab_type": "text"
      },
      "source": [
        "### Run the TF serving container"
      ]
    },
    {
      "cell_type": "markdown",
      "metadata": {
        "id": "lJ3yS6DWs-Vz",
        "colab_type": "text"
      },
      "source": [
        "After downloading the saved model files. Run the following docker command to spin up the RESTful service.\n",
        "\n",
        "Replace the {model_path} with your local path."
      ]
    },
    {
      "cell_type": "markdown",
      "metadata": {
        "id": "1LUzyIdHpz-E",
        "colab_type": "text"
      },
      "source": [
        "\n",
        "```\n",
        "docker run -t --rm -p 8501:8501 \\\n",
        "```\n",
        "```\n",
        "--mount type=bind,source={model_path},target=/models/fashion_model \\\n",
        "```\n",
        "```\n",
        "-e MODEL_NAME=fashion_model tensorflow/serving\n",
        "```\n",
        "\n"
      ]
    },
    {
      "cell_type": "markdown",
      "metadata": {
        "id": "Vn5mjQSmt8KR",
        "colab_type": "text"
      },
      "source": [
        "### Testing the model with TF Serving"
      ]
    },
    {
      "cell_type": "code",
      "metadata": {
        "id": "vsev_m65uS80",
        "colab_type": "code",
        "colab": {
          "base_uri": "https://localhost:8080/",
          "height": 34
        },
        "outputId": "5e7f03fa-71e9-48ea-b8cb-3f06eed25248"
      },
      "source": [
        "# pick some random image from the test dataset\n",
        "import random\n",
        "rando = random.randint(0,len(test_images)-1)\n",
        "print(\"chosen random image: {}\".format(rando))"
      ],
      "execution_count": 65,
      "outputs": [
        {
          "output_type": "stream",
          "text": [
            "chosen random image: 9634\n"
          ],
          "name": "stdout"
        }
      ]
    },
    {
      "cell_type": "code",
      "metadata": {
        "id": "YqyuiDIfucFF",
        "colab_type": "code",
        "colab": {
          "base_uri": "https://localhost:8080/",
          "height": 318
        },
        "outputId": "3e55bcb0-baa2-4dbb-bd83-56aa284c88da"
      },
      "source": [
        "show(test_images[rando].reshape(28,28), 'Correct Label: {}'.format(class_names[test_labels[rando]]))"
      ],
      "execution_count": 66,
      "outputs": [
        {
          "output_type": "display_data",
          "data": {
            "image/png": "[encoded data removed]",
            "text/plain": [
              "<Figure size 432x288 with 1 Axes>"
            ]
          },
          "metadata": {
            "tags": []
          }
        }
      ]
    },
    {
      "cell_type": "code",
      "metadata": {
        "id": "4rbgiD_DrKVL",
        "colab_type": "code",
        "colab": {
          "base_uri": "https://localhost:8080/",
          "height": 54
        },
        "outputId": "1473a259-935d-4317-c0dd-3938db3591ac"
      },
      "source": [
        "# preparing the request payload\n",
        "import json\n",
        "data = json.dumps({\"signature_name\": \"serving_default\", \"instances\": test_images[rando:rando+1].tolist()})\n",
        "print(data)"
      ],
      "execution_count": 74,
      "outputs": [
        {
          "output_type": "stream",
          "text": [
            "{\"signature_name\": \"serving_default\", \"instances\": [[[[0.0], [0.0], [0.0], [0.0], [0.0], [0.0], [0.0], [0.0], [0.0], [0.0], [0.0], [0.0], [0.0], [0.0], [0.0], [0.0], [0.0], [0.0], [0.0], [0.0], [0.0], [0.0], [0.0], [0.0], [0.0], [0.0], [0.0], [0.0]], [[0.0], [0.0], [0.0], [0.0], [0.0], [0.0], [0.0], [0.0], [0.0], [0.0], [0.0], [0.0], [0.0], [0.0], [0.0], [0.0], [0.0], [0.0], [0.0], [0.0], [0.0], [0.0], [0.0], [0.0], [0.0], [0.0], [0.0], [0.0]], [[0.0], [0.0], [0.0], [0.0], [0.0], [0.0], [0.0], [0.0], [0.0], [0.0], [0.0], [0.0], [0.0], [0.0], [0.0], [0.0], [0.0], [0.0], [0.0], [0.0], [0.0], [0.0], [0.0], [0.0], [0.0], [0.0], [0.0], [0.0]], [[0.0], [0.0], [0.0], [0.0], [0.0], [0.0], [0.0], [0.0], [0.0], [0.0], [0.0], [0.0], [0.0], [0.0], [0.0], [0.0], [0.0], [0.0], [0.0], [0.0], [0.0], [0.0], [0.0], [0.0], [0.0], [0.0], [0.0], [0.0]], [[0.0], [0.0], [0.0], [0.0], [0.0], [0.0], [0.0], [0.0], [0.0], [0.0], [0.0], [0.0], [0.0], [0.0], [0.0], [0.0], [0.0], [0.0], [0.0], [0.0], [0.0], [0.0], [0.0], [0.0], [0.0], [0.0], [0.0], [0.0]], [[0.0], [0.0], [0.0], [0.0], [0.0], [0.0], [0.0], [0.0], [0.0], [0.0], [0.0], [0.0], [0.0], [0.0], [0.0], [0.00392156862745098], [0.0], [0.050980392156862744], [0.27058823529411763], [0.0], [0.0], [0.023529411764705882], [0.0], [0.00392156862745098], [0.00392156862745098], [0.011764705882352941], [0.011764705882352941], [0.0]], [[0.0], [0.0], [0.0], [0.0], [0.0], [0.0], [0.0], [0.0], [0.0], [0.0], [0.0], [0.0], [0.0], [0.0], [0.0], [0.0], [0.0], [0.7333333333333333], [0.8156862745098039], [0.34901960784313724], [0.0], [0.0], [0.0], [0.0], [0.0], [0.0], [0.0], [0.0]], [[0.0], [0.0], [0.0], [0.0], [0.0], [0.0], [0.0], [0.0], [0.0], [0.0], [0.0], [0.0], [0.0], [0.0], [0.01568627450980392], [0.0], [0.24705882352941178], [0.8235294117647058], [0.8156862745098039], [0.8313725490196079], [0.5294117647058824], [0.29411764705882354], [0.27058823529411763], [0.2235294117647059], [0.2], [0.2980392156862745], [0.16470588235294117], [0.0]], [[0.0], [0.0], [0.0], [0.0], [0.0], [0.0], [0.0], [0.0], [0.0], [0.0], [0.0], [0.0], [0.0], [0.00392156862745098], [0.0], [0.0], [1.0], [0.6078431372549019], [0.8470588235294118], [0.9137254901960784], [0.984313725490196], [0.8862745098039215], [0.9450980392156862], [0.8352941176470589], [0.8470588235294118], [0.9411764705882353], [0.5647058823529412], [0.0]], [[0.0], [0.0], [0.0], [0.0], [0.0], [0.0], [0.0], [0.0], [0.0], [0.0], [0.0], [0.0], [0.0], [0.011764705882352941], [0.0], [0.5529411764705883], [0.7098039215686275], [0.788235294117647], [0.9254901960784314], [0.8823529411764706], [0.7764705882352941], [0.7843137254901961], [0.8], [0.796078431372549], [0.7725490196078432], [0.8431372549019608], [0.3607843137254902], [0.0]], [[0.0], [0.0], [0.0], [0.0], [0.0], [0.0], [0.0], [0.0], [0.0], [0.0], [0.0], [0.0], [0.00784313725490196], [0.0], [0.2], [0.9686274509803922], [0.7450980392156863], [0.9372549019607843], [0.8941176470588236], [0.9176470588235294], [0.803921568627451], [0.7411764705882353], [0.7490196078431373], [0.796078431372549], [0.7764705882352941], [0.8666666666666667], [0.34509803921568627], [0.0]], [[0.0], [0.0], [0.0], [0.0], [0.0], [0.0], [0.0], [0.0], [0.0], [0.0], [0.0], [0.00392156862745098], [0.0], [0.0], [0.9294117647058824], [0.7294117647058823], [0.7647058823529411], [0.8941176470588236], [0.8784313725490196], [0.8901960784313725], [0.7686274509803922], [0.7411764705882353], [0.792156862745098], [0.8235294117647058], [0.7725490196078432], [0.8627450980392157], [0.2], [0.0]], [[0.0], [0.0], [0.0], [0.0], [0.00392156862745098], [0.0], [0.0], [0.0], [0.0], [0.00392156862745098], [0.011764705882352941], [0.0], [0.0], [0.6862745098039216], [0.7254901960784313], [0.7215686274509804], [0.8274509803921568], [0.8705882352941177], [0.8627450980392157], [0.8470588235294118], [0.8549019607843137], [0.8392156862745098], [0.8274509803921568], [0.8392156862745098], [0.7764705882352941], [0.8549019607843137], [0.3411764705882353], [0.0]], [[0.0], [0.0], [0.0], [0.0], [0.00392156862745098], [0.0], [0.0], [0.0], [0.00392156862745098], [0.0], [0.0], [0.058823529411764705], [0.7647058823529411], [0.7607843137254902], [0.7529411764705882], [0.8235294117647058], [0.8509803921568627], [0.9058823529411765], [0.9411764705882353], [0.9098039215686274], [0.9411764705882353], [0.9333333333333333], [0.9058823529411765], [0.8862745098039215], [0.8352941176470589], [0.8901960784313725], [0.49411764705882355], [0.0]], [[0.0], [0.0], [0.0], [0.0], [0.00392156862745098], [0.00784313725490196], [0.01568627450980392], [0.0], [0.0], [0.00392156862745098], [0.43137254901960786], [0.7764705882352941], [0.6784313725490196], [0.6313725490196078], [0.8235294117647058], [0.8274509803921568], [0.9058823529411765], [0.8431372549019608], [0.8705882352941177], [0.9254901960784314], [0.8274509803921568], [0.8], [0.8470588235294118], [0.8274509803921568], [0.788235294117647], [0.8431372549019608], [0.592156862745098], [0.0]], [[0.0], [0.011764705882352941], [0.00392156862745098], [0.0], [0.0], [0.0], [0.0], [0.0], [0.3411764705882353], [0.7450980392156863], [0.7411764705882353], [0.6], [0.6705882352941176], [0.792156862745098], [0.803921568627451], [0.8352941176470589], [0.8901960784313725], [0.8745098039215686], [0.8509803921568627], [0.8274509803921568], [0.7176470588235294], [0.7725490196078432], [0.8352941176470589], [0.8196078431372549], [0.7764705882352941], [0.807843137254902], [0.7529411764705882], [0.0]], [[0.0], [0.0], [0.0], [0.0], [0.0], [0.13333333333333333], [0.5764705882352941], [0.8392156862745098], [0.6862745098039216], [0.6196078431372549], [0.7725490196078432], [0.7215686274509804], [0.8156862745098039], [0.8862745098039215], [0.8392156862745098], [0.8235294117647058], [0.803921568627451], [0.8862745098039215], [0.8745098039215686], [0.8274509803921568], [0.8196078431372549], [0.8274509803921568], [0.7725490196078432], [0.7686274509803922], [0.7647058823529411], [0.7725490196078432], [0.8274509803921568], [0.0]], [[0.0], [0.00392156862745098], [0.34901960784313724], [0.592156862745098], [0.7098039215686275], [0.8117647058823529], [0.8274509803921568], [0.7333333333333333], [0.7333333333333333], [0.8235294117647058], [0.7725490196078432], [0.8509803921568627], [0.8941176470588236], [0.8705882352941177], [0.8784313725490196], [0.8901960784313725], [0.8784313725490196], [0.8784313725490196], [0.8431372549019608], [0.792156862745098], [0.796078431372549], [0.788235294117647], [0.7254901960784313], [0.7529411764705882], [0.7725490196078432], [0.7568627450980392], [0.7607843137254902], [0.09803921568627451]], [[0.01568627450980392], [0.6705882352941176], [0.8509803921568627], [0.7490196078431373], [0.7294117647058823], [0.7215686274509804], [0.7607843137254902], [0.7803921568627451], [0.7803921568627451], [0.8], [0.8], [0.8], [0.8156862745098039], [0.8705882352941177], [0.8980392156862745], [0.9254901960784314], [0.9411764705882353], [0.9568627450980393], [0.9254901960784314], [0.9529411764705882], [0.9607843137254902], [1.0], [1.0], [1.0], [0.8196078431372549], [0.7686274509803922], [0.8588235294117647], [0.027450980392156862]], [[0.0], [0.4235294117647059], [0.5294117647058824], [0.7019607843137254], [0.7607843137254902], [0.8156862745098039], [0.8156862745098039], [0.8313725490196079], [0.8705882352941177], [0.8431372549019608], [0.8509803921568627], [0.8745098039215686], [1.0], [0.9921568627450981], [0.9372549019607843], [0.8117647058823529], [0.6627450980392157], [0.5882352941176471], [0.5098039215686274], [0.3568627450980392], [0.27058823529411763], [0.23137254901960785], [0.17647058823529413], [0.11372549019607843], [0.0784313725490196], [0.01568627450980392], [0.0], [0.0]], [[0.043137254901960784], [0.0], [0.0], [0.0], [0.011764705882352941], [0.13333333333333333], [0.22745098039215686], [0.29411764705882354], [0.38823529411764707], [0.4], [0.396078431372549], [0.28627450980392155], [0.1803921568627451], [0.00784313725490196], [0.0], [0.0], [0.0], [0.0], [0.0], [0.0], [0.0], [0.0], [0.0], [0.0], [0.0], [0.0], [0.0196078431372549], [0.06274509803921569]], [[0.12156862745098039], [0.20392156862745098], [0.16470588235294117], [0.047058823529411764], [0.0], [0.0], [0.0], [0.0], [0.0], [0.0], [0.0], [0.0], [0.0], [0.0], [0.0], [0.0392156862745098], [0.07450980392156863], [0.09019607843137255], [0.09803921568627451], [0.10980392156862745], [0.12156862745098039], [0.11764705882352941], [0.12549019607843137], [0.1411764705882353], [0.1411764705882353], [0.12549019607843137], [0.10588235294117647], [0.10196078431372549]], [[0.0], [0.01568627450980392], [0.09019607843137255], [0.15294117647058825], [0.2], [0.1843137254901961], [0.16470588235294117], [0.1411764705882353], [0.1411764705882353], [0.1450980392156863], [0.12941176470588237], [0.12549019607843137], [0.12549019607843137], [0.13725490196078433], [0.13725490196078433], [0.12941176470588237], [0.12941176470588237], [0.12941176470588237], [0.12549019607843137], [0.12156862745098039], [0.11764705882352941], [0.11764705882352941], [0.12941176470588237], [0.12549019607843137], [0.12941176470588237], [0.12549019607843137], [0.12549019607843137], [0.10980392156862745]], [[0.0], [0.0], [0.0], [0.0], [0.03137254901960784], [0.0392156862745098], [0.08235294117647059], [0.12549019607843137], [0.13725490196078433], [0.12941176470588237], [0.12156862745098039], [0.12156862745098039], [0.13333333333333333], [0.11372549019607843], [0.10980392156862745], [0.10980392156862745], [0.10196078431372549], [0.10588235294117647], [0.11764705882352941], [0.11372549019607843], [0.11764705882352941], [0.11372549019607843], [0.12156862745098039], [0.10588235294117647], [0.09411764705882353], [0.09411764705882353], [0.07058823529411765], [0.0]], [[0.0], [0.0], [0.0], [0.0], [0.0], [0.0], [0.0], [0.0], [0.0], [0.0], [0.0], [0.0], [0.0], [0.0], [0.0], [0.0], [0.0], [0.0], [0.0], [0.0], [0.0], [0.0], [0.0], [0.0], [0.0], [0.0], [0.0], [0.0]], [[0.0], [0.0], [0.0], [0.0], [0.0], [0.0], [0.0], [0.0], [0.0], [0.0], [0.0], [0.0], [0.0], [0.0], [0.0], [0.0], [0.0], [0.0], [0.0], [0.0], [0.0], [0.0], [0.0], [0.0], [0.0], [0.0], [0.0], [0.0]], [[0.0], [0.0], [0.0], [0.0], [0.0], [0.0], [0.0], [0.0], [0.0], [0.0], [0.0], [0.0], [0.0], [0.0], [0.0], [0.0], [0.0], [0.0], [0.0], [0.0], [0.0], [0.0], [0.0], [0.0], [0.0], [0.0], [0.0], [0.0]], [[0.0], [0.0], [0.0], [0.0], [0.0], [0.0], [0.0], [0.0], [0.0], [0.0], [0.0], [0.0], [0.0], [0.0], [0.0], [0.0], [0.0], [0.0], [0.0], [0.0], [0.0], [0.0], [0.0], [0.0], [0.0], [0.0], [0.0], [0.0]]]]}\n"
          ],
          "name": "stdout"
        }
      ]
    },
    {
      "cell_type": "code",
      "metadata": {
        "id": "B-vxoJDFrLW-",
        "colab_type": "code",
        "colab": {}
      },
      "source": [
        "# a sample request\n",
        "curl -d '{\"signature_name\": \"serving_default\", \"instances\": [[[[0.0], [0.0], [0.0], [0.0], [0.0], [0.0], [0.0], [0.0], [0.0], [0.0], [0.0], [0.0], [0.0], [0.0], [0.0], [0.0], [0.0], [0.0], [0.0], [0.0], [0.0], [0.0], [0.0], [0.0], [0.0], [0.0], [0.0], [0.0]], [[0.0], [0.0], [0.0], [0.0], [0.0], [0.0], [0.0], [0.0], [0.0], [0.0], [0.0], [0.0], [0.0], [0.0], [0.0], [0.0], [0.0], [0.0], [0.0], [0.0], [0.0], [0.0], [0.0], [0.0], [0.0], [0.0], [0.0], [0.0]], [[0.0], [0.0], [0.0], [0.0], [0.0], [0.0], [0.0], [0.0], [0.0], [0.0], [0.0], [0.0], [0.0], [0.0], [0.0], [0.0], [0.0], [0.0], [0.0], [0.0], [0.0], [0.0], [0.0], [0.0], [0.0], [0.0], [0.0], [0.0]], [[0.0], [0.0], [0.0], [0.0], [0.0], [0.0], [0.0], [0.0], [0.0], [0.0], [0.0], [0.0], [0.0], [0.0], [0.0], [0.0], [0.0], [0.0], [0.0], [0.0], [0.0], [0.0], [0.0], [0.0], [0.0], [0.0], [0.0], [0.0]], [[0.0], [0.0], [0.0], [0.0], [0.0], [0.0], [0.0], [0.0], [0.0], [0.0], [0.0], [0.0], [0.0], [0.0], [0.0], [0.0], [0.0], [0.0], [0.0], [0.0], [0.0], [0.0], [0.0], [0.0], [0.0], [0.0], [0.0], [0.0]], [[0.0], [0.0], [0.0], [0.0], [0.0], [0.0], [0.0], [0.0], [0.0], [0.0], [0.0], [0.0], [0.0], [0.0], [0.0], [0.00392156862745098], [0.0], [0.050980392156862744], [0.27058823529411763], [0.0], [0.0], [0.023529411764705882], [0.0], [0.00392156862745098], [0.00392156862745098], [0.011764705882352941], [0.011764705882352941], [0.0]], [[0.0], [0.0], [0.0], [0.0], [0.0], [0.0], [0.0], [0.0], [0.0], [0.0], [0.0], [0.0], [0.0], [0.0], [0.0], [0.0], [0.0], [0.7333333333333333], [0.8156862745098039], [0.34901960784313724], [0.0], [0.0], [0.0], [0.0], [0.0], [0.0], [0.0], [0.0]], [[0.0], [0.0], [0.0], [0.0], [0.0], [0.0], [0.0], [0.0], [0.0], [0.0], [0.0], [0.0], [0.0], [0.0], [0.01568627450980392], [0.0], [0.24705882352941178], [0.8235294117647058], [0.8156862745098039], [0.8313725490196079], [0.5294117647058824], [0.29411764705882354], [0.27058823529411763], [0.2235294117647059], [0.2], [0.2980392156862745], [0.16470588235294117], [0.0]], [[0.0], [0.0], [0.0], [0.0], [0.0], [0.0], [0.0], [0.0], [0.0], [0.0], [0.0], [0.0], [0.0], [0.00392156862745098], [0.0], [0.0], [1.0], [0.6078431372549019], [0.8470588235294118], [0.9137254901960784], [0.984313725490196], [0.8862745098039215], [0.9450980392156862], [0.8352941176470589], [0.8470588235294118], [0.9411764705882353], [0.5647058823529412], [0.0]], [[0.0], [0.0], [0.0], [0.0], [0.0], [0.0], [0.0], [0.0], [0.0], [0.0], [0.0], [0.0], [0.0], [0.011764705882352941], [0.0], [0.5529411764705883], [0.7098039215686275], [0.788235294117647], [0.9254901960784314], [0.8823529411764706], [0.7764705882352941], [0.7843137254901961], [0.8], [0.796078431372549], [0.7725490196078432], [0.8431372549019608], [0.3607843137254902], [0.0]], [[0.0], [0.0], [0.0], [0.0], [0.0], [0.0], [0.0], [0.0], [0.0], [0.0], [0.0], [0.0], [0.00784313725490196], [0.0], [0.2], [0.9686274509803922], [0.7450980392156863], [0.9372549019607843], [0.8941176470588236], [0.9176470588235294], [0.803921568627451], [0.7411764705882353], [0.7490196078431373], [0.796078431372549], [0.7764705882352941], [0.8666666666666667], [0.34509803921568627], [0.0]], [[0.0], [0.0], [0.0], [0.0], [0.0], [0.0], [0.0], [0.0], [0.0], [0.0], [0.0], [0.00392156862745098], [0.0], [0.0], [0.9294117647058824], [0.7294117647058823], [0.7647058823529411], [0.8941176470588236], [0.8784313725490196], [0.8901960784313725], [0.7686274509803922], [0.7411764705882353], [0.792156862745098], [0.8235294117647058], [0.7725490196078432], [0.8627450980392157], [0.2], [0.0]], [[0.0], [0.0], [0.0], [0.0], [0.00392156862745098], [0.0], [0.0], [0.0], [0.0], [0.00392156862745098], [0.011764705882352941], [0.0], [0.0], [0.6862745098039216], [0.7254901960784313], [0.7215686274509804], [0.8274509803921568], [0.8705882352941177], [0.8627450980392157], [0.8470588235294118], [0.8549019607843137], [0.8392156862745098], [0.8274509803921568], [0.8392156862745098], [0.7764705882352941], [0.8549019607843137], [0.3411764705882353], [0.0]], [[0.0], [0.0], [0.0], [0.0], [0.00392156862745098], [0.0], [0.0], [0.0], [0.00392156862745098], [0.0], [0.0], [0.058823529411764705], [0.7647058823529411], [0.7607843137254902], [0.7529411764705882], [0.8235294117647058], [0.8509803921568627], [0.9058823529411765], [0.9411764705882353], [0.9098039215686274], [0.9411764705882353], [0.9333333333333333], [0.9058823529411765], [0.8862745098039215], [0.8352941176470589], [0.8901960784313725], [0.49411764705882355], [0.0]], [[0.0], [0.0], [0.0], [0.0], [0.00392156862745098], [0.00784313725490196], [0.01568627450980392], [0.0], [0.0], [0.00392156862745098], [0.43137254901960786], [0.7764705882352941], [0.6784313725490196], [0.6313725490196078], [0.8235294117647058], [0.8274509803921568], [0.9058823529411765], [0.8431372549019608], [0.8705882352941177], [0.9254901960784314], [0.8274509803921568], [0.8], [0.8470588235294118], [0.8274509803921568], [0.788235294117647], [0.8431372549019608], [0.592156862745098], [0.0]], [[0.0], [0.011764705882352941], [0.00392156862745098], [0.0], [0.0], [0.0], [0.0], [0.0], [0.3411764705882353], [0.7450980392156863], [0.7411764705882353], [0.6], [0.6705882352941176], [0.792156862745098], [0.803921568627451], [0.8352941176470589], [0.8901960784313725], [0.8745098039215686], [0.8509803921568627], [0.8274509803921568], [0.7176470588235294], [0.7725490196078432], [0.8352941176470589], [0.8196078431372549], [0.7764705882352941], [0.807843137254902], [0.7529411764705882], [0.0]], [[0.0], [0.0], [0.0], [0.0], [0.0], [0.13333333333333333], [0.5764705882352941], [0.8392156862745098], [0.6862745098039216], [0.6196078431372549], [0.7725490196078432], [0.7215686274509804], [0.8156862745098039], [0.8862745098039215], [0.8392156862745098], [0.8235294117647058], [0.803921568627451], [0.8862745098039215], [0.8745098039215686], [0.8274509803921568], [0.8196078431372549], [0.8274509803921568], [0.7725490196078432], [0.7686274509803922], [0.7647058823529411], [0.7725490196078432], [0.8274509803921568], [0.0]], [[0.0], [0.00392156862745098], [0.34901960784313724], [0.592156862745098], [0.7098039215686275], [0.8117647058823529], [0.8274509803921568], [0.7333333333333333], [0.7333333333333333], [0.8235294117647058], [0.7725490196078432], [0.8509803921568627], [0.8941176470588236], [0.8705882352941177], [0.8784313725490196], [0.8901960784313725], [0.8784313725490196], [0.8784313725490196], [0.8431372549019608], [0.792156862745098], [0.796078431372549], [0.788235294117647], [0.7254901960784313], [0.7529411764705882], [0.7725490196078432], [0.7568627450980392], [0.7607843137254902], [0.09803921568627451]], [[0.01568627450980392], [0.6705882352941176], [0.8509803921568627], [0.7490196078431373], [0.7294117647058823], [0.7215686274509804], [0.7607843137254902], [0.7803921568627451], [0.7803921568627451], [0.8], [0.8], [0.8], [0.8156862745098039], [0.8705882352941177], [0.8980392156862745], [0.9254901960784314], [0.9411764705882353], [0.9568627450980393], [0.9254901960784314], [0.9529411764705882], [0.9607843137254902], [1.0], [1.0], [1.0], [0.8196078431372549], [0.7686274509803922], [0.8588235294117647], [0.027450980392156862]], [[0.0], [0.4235294117647059], [0.5294117647058824], [0.7019607843137254], [0.7607843137254902], [0.8156862745098039], [0.8156862745098039], [0.8313725490196079], [0.8705882352941177], [0.8431372549019608], [0.8509803921568627], [0.8745098039215686], [1.0], [0.9921568627450981], [0.9372549019607843], [0.8117647058823529], [0.6627450980392157], [0.5882352941176471], [0.5098039215686274], [0.3568627450980392], [0.27058823529411763], [0.23137254901960785], [0.17647058823529413], [0.11372549019607843], [0.0784313725490196], [0.01568627450980392], [0.0], [0.0]], [[0.043137254901960784], [0.0], [0.0], [0.0], [0.011764705882352941], [0.13333333333333333], [0.22745098039215686], [0.29411764705882354], [0.38823529411764707], [0.4], [0.396078431372549], [0.28627450980392155], [0.1803921568627451], [0.00784313725490196], [0.0], [0.0], [0.0], [0.0], [0.0], [0.0], [0.0], [0.0], [0.0], [0.0], [0.0], [0.0], [0.0196078431372549], [0.06274509803921569]], [[0.12156862745098039], [0.20392156862745098], [0.16470588235294117], [0.047058823529411764], [0.0], [0.0], [0.0], [0.0], [0.0], [0.0], [0.0], [0.0], [0.0], [0.0], [0.0], [0.0392156862745098], [0.07450980392156863], [0.09019607843137255], [0.09803921568627451], [0.10980392156862745], [0.12156862745098039], [0.11764705882352941], [0.12549019607843137], [0.1411764705882353], [0.1411764705882353], [0.12549019607843137], [0.10588235294117647], [0.10196078431372549]], [[0.0], [0.01568627450980392], [0.09019607843137255], [0.15294117647058825], [0.2], [0.1843137254901961], [0.16470588235294117], [0.1411764705882353], [0.1411764705882353], [0.1450980392156863], [0.12941176470588237], [0.12549019607843137], [0.12549019607843137], [0.13725490196078433], [0.13725490196078433], [0.12941176470588237], [0.12941176470588237], [0.12941176470588237], [0.12549019607843137], [0.12156862745098039], [0.11764705882352941], [0.11764705882352941], [0.12941176470588237], [0.12549019607843137], [0.12941176470588237], [0.12549019607843137], [0.12549019607843137], [0.10980392156862745]], [[0.0], [0.0], [0.0], [0.0], [0.03137254901960784], [0.0392156862745098], [0.08235294117647059], [0.12549019607843137], [0.13725490196078433], [0.12941176470588237], [0.12156862745098039], [0.12156862745098039], [0.13333333333333333], [0.11372549019607843], [0.10980392156862745], [0.10980392156862745], [0.10196078431372549], [0.10588235294117647], [0.11764705882352941], [0.11372549019607843], [0.11764705882352941], [0.11372549019607843], [0.12156862745098039], [0.10588235294117647], [0.09411764705882353], [0.09411764705882353], [0.07058823529411765], [0.0]], [[0.0], [0.0], [0.0], [0.0], [0.0], [0.0], [0.0], [0.0], [0.0], [0.0], [0.0], [0.0], [0.0], [0.0], [0.0], [0.0], [0.0], [0.0], [0.0], [0.0], [0.0], [0.0], [0.0], [0.0], [0.0], [0.0], [0.0], [0.0]], [[0.0], [0.0], [0.0], [0.0], [0.0], [0.0], [0.0], [0.0], [0.0], [0.0], [0.0], [0.0], [0.0], [0.0], [0.0], [0.0], [0.0], [0.0], [0.0], [0.0], [0.0], [0.0], [0.0], [0.0], [0.0], [0.0], [0.0], [0.0]], [[0.0], [0.0], [0.0], [0.0], [0.0], [0.0], [0.0], [0.0], [0.0], [0.0], [0.0], [0.0], [0.0], [0.0], [0.0], [0.0], [0.0], [0.0], [0.0], [0.0], [0.0], [0.0], [0.0], [0.0], [0.0], [0.0], [0.0], [0.0]], [[0.0], [0.0], [0.0], [0.0], [0.0], [0.0], [0.0], [0.0], [0.0], [0.0], [0.0], [0.0], [0.0], [0.0], [0.0], [0.0], [0.0], [0.0], [0.0], [0.0], [0.0], [0.0], [0.0], [0.0], [0.0], [0.0], [0.0], [0.0]]]]}' \\\n",
        "    -X POST http://localhost:8501/v1/models/fashion_model:predict\n"
      ],
      "execution_count": 0,
      "outputs": []
    },
    {
      "cell_type": "markdown",
      "metadata": {
        "id": "36GUTYTawPCt",
        "colab_type": "text"
      },
      "source": [
        "a sample response from the rest service\n",
        "\n",
        "```\n",
        "{\n",
        "    \"predictions\": [[1.86554064e-06, 1.45144394e-08, 2.69284072e-07, 1.95202188e-06, 3.31313231e-07, 0.00111654657, 1.40285647e-05, 0.710234165, 0.000198778464, 0.288431972]\n",
        "    ]\n",
        "}\n",
        "```\n",
        "\n"
      ]
    },
    {
      "cell_type": "code",
      "metadata": {
        "id": "wbQhYWZ-r87r",
        "colab_type": "code",
        "colab": {
          "base_uri": "https://localhost:8080/",
          "height": 318
        },
        "outputId": "93c3ecea-4cbd-4b04-d79b-eb2c099aed40"
      },
      "source": [
        "predictions=[[1.86554064e-06, 1.45144394e-08, 2.69284072e-07, 1.95202188e-06, 3.31313231e-07, 0.00111654657, 1.40285647e-05, 0.710234165, 0.000198778464, 0.288431972]]\n",
        "show(test_images[rando].reshape(28,28), 'Predicted label from the REST service: {}'.format(class_names[np.argmax(predictions[0])]))"
      ],
      "execution_count": 75,
      "outputs": [
        {
          "output_type": "display_data",
          "data": {
            "image/png": "[encoded data removed]",
            "text/plain": [
              "<Figure size 432x288 with 1 Axes>"
            ]
          },
          "metadata": {
            "tags": []
          }
        }
      ]
    },
    {
      "cell_type": "markdown",
      "metadata": {
        "id": "LwvalOu1yVDk",
        "colab_type": "text"
      },
      "source": [
        "## Package the model in a self-contained image"
      ]
    },
    {
      "cell_type": "markdown",
      "metadata": {
        "id": "I_oUdrz3yfGW",
        "colab_type": "text"
      },
      "source": [
        "We can package the trained model in self-contained image which directly serves the RESTful api when spinned up."
      ]
    },
    {
      "cell_type": "markdown",
      "metadata": {
        "id": "IEP-1twzyuD7",
        "colab_type": "text"
      },
      "source": [
        "```\n",
        "docker run -d --name serving_base tensorflow/serving\n",
        "```"
      ]
    },
    {
      "cell_type": "markdown",
      "metadata": {
        "id": "aj2V6ajty30n",
        "colab_type": "text"
      },
      "source": [
        "```\n",
        "docker cp {model_path} serving_base:/models/fashion_model\n",
        "```"
      ]
    },
    {
      "cell_type": "markdown",
      "metadata": {
        "id": "fkpFm2T9zcbZ",
        "colab_type": "text"
      },
      "source": [
        "```\n",
        "docker commit --change \"ENV MODEL_NAME fashion_model\" serving_base {new_image_name}\n",
        "```"
      ]
    },
    {
      "cell_type": "markdown",
      "metadata": {
        "id": "qnbSdVPH0vzz",
        "colab_type": "text"
      },
      "source": [
        "```\n",
        "docker run -t --rm -p 8501:8501 {new_image_name}\n",
        "```"
      ]
    }
  ]
}